{
 "cells": [
  {
   "cell_type": "markdown",
   "id": "9a446194",
   "metadata": {},
   "source": [
    "# **Programación IV**\n",
    "## *Archivo 1, Clase 1*\n",
    "\n",
    "Grupo: 1\n",
    "\n",
    "Profesor: Andrés Felipe Ramírez Correa\n",
    "\n",
    "Nombre: Carlos Eduardo Grisales Restrepo\n",
    "\n",
    "Codigo: 1055750849\n",
    "\n",
    "**Tema: Listas**"
   ]
  },
  {
   "cell_type": "markdown",
   "id": "9de9eb04",
   "metadata": {},
   "source": [
    "# **Listas**\n",
    "## **Definición**\n",
    "\n",
    "- Las listas son un tipo de colección ordenada que se asemeja mucho a\n",
    "lo que en otros lenguajes de programación se conocen como arreglos\n",
    "o vectores, las listas pueden contener enteros, booleanos, cadenas,\n",
    "flotantes o inclusive otras listas.\n",
    "- Los elementos dentro de una lista van encerrados entre corchetes y\n",
    "separados por coma.\n",
    "- La posición inicial de la lista siempre empieza con valor de secuencia\n",
    "0."
   ]
  },
  {
   "cell_type": "code",
   "execution_count": 7,
   "id": "2475a503",
   "metadata": {},
   "outputs": [
    {
     "name": "stdout",
     "output_type": "stream",
     "text": [
      "LISTS! \n",
      "\n",
      "Ejemplo 1. \n",
      "\n",
      "10\n",
      "\n",
      "\n"
     ]
    }
   ],
   "source": [
    "'''\n",
    "Ej:\n",
    "\n",
    "|-----|     |-------|\n",
    "|  0  |---> |item  1|\n",
    "|-----|     |-------|\n",
    "|  1  |---> |item 2 |\n",
    "|-----|     |-------|\n",
    "|  3  |---> |item 3 |\n",
    "|-----|     |-------|\n",
    "\n",
    "'''\n",
    "\n",
    "\n",
    "print ( \"LISTS! \\n\")\n",
    "\n",
    "# Las listas pueden contener listas como otro elemento y se accede como\n",
    "# un sub elemento.\n",
    "\n",
    "print(\"Ejemplo 1. \\n\")\n",
    "list1 = [2, \"tres\", True, [\"uno\", 10]]\n",
    "\n",
    "# Ej:\n",
    "x = list1[3][1]\n",
    "print(x)\n",
    "print(\"\\n\")\n"
   ]
  },
  {
   "cell_type": "markdown",
   "id": "0206d5b1",
   "metadata": {},
   "source": [
    "## **Cambiar valores en una lista**\n",
    "\n",
    "Para realizar un cambio de valores primero tenemos que definir la\n",
    "posición del dato que se va a cambiar y luego asignarle el nuevo valor"
   ]
  },
  {
   "cell_type": "code",
   "execution_count": 8,
   "id": "6d0d9b9f",
   "metadata": {},
   "outputs": [
    {
     "name": "stdout",
     "output_type": "stream",
     "text": [
      "Cambiar Valores: \n",
      "\n",
      "tres\n",
      "\n",
      "\n"
     ]
    }
   ],
   "source": [
    "print(\"Cambiar Valores: \\n\")\n",
    "\n",
    "list2 = [1, 2, False, [\"dos\", 20]]\n",
    "\n",
    "list2[3][0] = \"tres\"\n",
    "\n",
    "y = list2[3][0]\n",
    "print(y)\n",
    "\n",
    "print(\"\\n\")\n"
   ]
  },
  {
   "cell_type": "markdown",
   "id": "ebc60e99",
   "metadata": {},
   "source": [
    "## **Copiar elementos de lista:**\n",
    "\n",
    "Se define la posición desde la que se va a empezar a copiar y la cantidad\n",
    "de elemetos:"
   ]
  },
  {
   "cell_type": "code",
   "execution_count": 9,
   "id": "3ba39a1e",
   "metadata": {},
   "outputs": [
    {
     "name": "stdout",
     "output_type": "stream",
     "text": [
      "Copiar Listas: \n",
      "\n",
      "[4]\n"
     ]
    }
   ],
   "source": [
    "print(\"Copiar Listas: \\n\")\n",
    "\n",
    "list3 = [1, 2, 3, 4, 5, 6, 7, 8, 9,]\n",
    "list4 = [23, 25, 35, 67, 82, [1, 2, 3], [4, 5, 6]]\n",
    "CopyOfList3 = list3[3:4]\n",
    "print(CopyOfList3)\n"
   ]
  },
  {
   "cell_type": "markdown",
   "id": "fcb9c43a",
   "metadata": {},
   "source": [
    "## **Copiar algunos elementos de la lista**\n",
    "\n",
    "Para esta acción podemos definir un patrón numérico para copiar\n",
    "ciertos elementos.\n"
   ]
  },
  {
   "cell_type": "code",
   "execution_count": 10,
   "id": "1368c031",
   "metadata": {},
   "outputs": [
    {
     "name": "stdout",
     "output_type": "stream",
     "text": [
      "[2, 5]\n"
     ]
    }
   ],
   "source": [
    "lista = [2,3,5,[1,2]]\n",
    "\n",
    "lista2 = lista[0:4:2]\n",
    "\n",
    "print(lista2)"
   ]
  },
  {
   "cell_type": "markdown",
   "id": "db11e131",
   "metadata": {},
   "source": [
    "## **Ingreso de datos a la lista**\n",
    "\n",
    "Para ingresar datos en una lista nos podemos servir del método\n",
    "“input” y el iterador “for”.\n",
    "\n",
    "*¿Qué propuesta tenemos entonces para realizar esta operación?*\n",
    "\n",
    "**R/** La clave esta en definir bien el rango dentro del ciclo para saber en orden se van a guardar datos"
   ]
  },
  {
   "cell_type": "code",
   "execution_count": 11,
   "id": "96b22f68",
   "metadata": {},
   "outputs": [
    {
     "name": "stdout",
     "output_type": "stream",
     "text": [
      "[1, 2, 3, 4]\n"
     ]
    }
   ],
   "source": [
    "# Solución 1\n",
    "\n",
    "lista = []\n",
    "\n",
    "elementos = int(input( \"Cuantos elementos va a ingresar: \"))\n",
    "\n",
    "for i in range(elementos):\n",
    "    elemento = [int(input(\"Ingrese un elemento: \"))]\n",
    "    #lista += [elemento]\n",
    "    lista[i:i] = elemento\n",
    "print(lista)"
   ]
  },
  {
   "cell_type": "code",
   "execution_count": null,
   "id": "0e4c0471",
   "metadata": {},
   "outputs": [
    {
     "name": "stdout",
     "output_type": "stream",
     "text": [
      "['1', '1', '1', '1']\n"
     ]
    }
   ],
   "source": [
    "# Solucion 2 con metodo append\n",
    "\n",
    "a = int(input(\"Cuantos elementos va a ingresar: \"))\n",
    "l = [] #def de lista vacia\n",
    "\n",
    "for i in range(a):\n",
    "    b = input(\"ingrese un valor: \")\n",
    "    l.append(b)\n",
    "print(l)"
   ]
  },
  {
   "cell_type": "markdown",
   "id": "0b0cfcdc",
   "metadata": {},
   "source": [
    "### **Ejercicios**\n",
    "\n",
    "1. Realizar un programa que pida las notas que tiene en cada asignatura\n",
    "\n",
    "Para este ejercicio debemos crear la lista de las materias y\n",
    "luego en otra lista guardar cada nota, podemos usar dos\n",
    "iteradores uno para guardar las notas y otro para imprimirlas\n",
    "al final."
   ]
  },
  {
   "cell_type": "code",
   "execution_count": 14,
   "id": "8c131f93",
   "metadata": {},
   "outputs": [
    {
     "name": "stdout",
     "output_type": "stream",
     "text": [
      "matematicas : 1.0\n",
      "programacion : 2.0\n",
      "logica : 3.0\n",
      "fisica : 4.0\n"
     ]
    }
   ],
   "source": [
    "# Sol\n",
    "\n",
    "materias=[\"matematicas\",\"programacion\",\"logica\",\"fisica\"]\n",
    "notas=[]\n",
    "\n",
    "for i in materias:\n",
    "    nota=float(input(f\"ingrese la nota para la asignatura de {i}: \"))\n",
    "    notas.append(nota)\n",
    "for i in range(len(materias)):\n",
    "    print(f\"{materias[i]} : {notas[i]}\")"
   ]
  },
  {
   "cell_type": "markdown",
   "id": "2595c97b",
   "metadata": {},
   "source": [
    "2. Realice la inversa de una lista:\n",
    "\n",
    "Para implementar esto debemos imprimir los elementos de la lista\n",
    "desde el ultimo hasta el inicial"
   ]
  },
  {
   "cell_type": "code",
   "execution_count": null,
   "id": "c4e50e4e",
   "metadata": {},
   "outputs": [
    {
     "name": "stdout",
     "output_type": "stream",
     "text": [
      "1 2 3 4 5 6 7 \n",
      "\n",
      "7 6 5 4 3 2 1 "
     ]
    }
   ],
   "source": [
    "# Sol 1\n",
    "\n",
    "lista=[1,2,3,4,5,6,7]\n",
    "\n",
    "for i in lista:\n",
    "    print(i, end=\" \")\n",
    "print(\"\\n\")\n",
    "\n",
    "for i in lista:\n",
    "    print(lista[-i], end=\" \")"
   ]
  },
  {
   "cell_type": "code",
   "execution_count": null,
   "id": "42088712",
   "metadata": {},
   "outputs": [
    {
     "name": "stdout",
     "output_type": "stream",
     "text": [
      "[7, 6, 5, 4, 3, 2, 1]\n"
     ]
    }
   ],
   "source": [
    "# Sol 2\n",
    "\n",
    "lista=[1,2,3,4,5,6,7]\n",
    "\n",
    "lista.reverse()\n",
    "\n",
    "print(lista)"
   ]
  },
  {
   "cell_type": "markdown",
   "id": "b61ebe28",
   "metadata": {},
   "source": [
    "3. Ordenar una lista\n",
    "\n",
    "Para ordenar datos tenemos el método sort()"
   ]
  },
  {
   "cell_type": "code",
   "execution_count": 23,
   "id": "664ddaff",
   "metadata": {},
   "outputs": [
    {
     "name": "stdout",
     "output_type": "stream",
     "text": [
      "1 1 2 4 5 8 20 90 "
     ]
    }
   ],
   "source": [
    "l = [1, 4, 20, 2, 8, 90, 5, 1]\n",
    "\n",
    "l.sort()\n",
    "\n",
    "for i in l:\n",
    "    print(i, end=\" \")"
   ]
  },
  {
   "cell_type": "markdown",
   "id": "defb8fc9",
   "metadata": {},
   "source": [
    "4. Buscar elemento en la lista"
   ]
  },
  {
   "cell_type": "code",
   "execution_count": 22,
   "id": "53f023f5",
   "metadata": {},
   "outputs": [
    {
     "name": "stdout",
     "output_type": "stream",
     "text": [
      "mengano se encuentra en la base de datos.\n"
     ]
    }
   ],
   "source": [
    "nombres=[\"fulanito\",\"sutanito\",\"mengano\",\"perano\"]\n",
    "\n",
    "consulta=input(\"ingrese el elemento a buscar: \")\n",
    "\n",
    "if consulta in nombres:\n",
    "    print(f\"{consulta} se encuentra en la base de datos.\")\n",
    "else:\n",
    "    print(f\"{consulta} NO se encuentra en la base de datos.\")"
   ]
  },
  {
   "cell_type": "markdown",
   "id": "e221cfbc",
   "metadata": {},
   "source": [
    "## **Métodos**\n",
    "\n",
    "Las listas tienen varios métodos que podemos aplicar para facilitar tanto su implementación como realizar diferentes operaciones con ellas, entre estos métodos tenemos los siguientes:\n",
    "\n",
    "- Append()\n",
    "\n",
    "- Count()\n",
    "\n",
    "- Extend()\n",
    "\n",
    "- Index()\n",
    "\n",
    "- Insert()\n",
    "\n",
    "- Pop()\n",
    "\n",
    "- Remove()\n",
    "\n",
    "- Reverse()\n",
    "\n",
    "- Sort()\n",
    "\n",
    "- Clear()"
   ]
  }
 ],
 "metadata": {
  "kernelspec": {
   "display_name": "Python 3",
   "language": "python",
   "name": "python3"
  },
  "language_info": {
   "codemirror_mode": {
    "name": "ipython",
    "version": 3
   },
   "file_extension": ".py",
   "mimetype": "text/x-python",
   "name": "python",
   "nbconvert_exporter": "python",
   "pygments_lexer": "ipython3",
   "version": "3.13.5"
  }
 },
 "nbformat": 4,
 "nbformat_minor": 5
}
