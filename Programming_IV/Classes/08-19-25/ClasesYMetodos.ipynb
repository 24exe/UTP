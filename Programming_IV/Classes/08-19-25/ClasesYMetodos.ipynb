{
 "cells": [
  {
   "cell_type": "markdown",
   "id": "9b4478bd",
   "metadata": {},
   "source": [
    "# **Programación IV**\n",
    "## *Archivo 2, Clase 2*\n",
    "\n",
    "Grupo: 1\n",
    "\n",
    "Profesor: Andrés Felipe Ramírez Correa\n",
    "\n",
    "Nombre: Carlos Eduardo Grisales Restrepo\n",
    "\n",
    "Codigo: 1055750849\n",
    "\n",
    "**Tema: Clases y Métodos**"
   ]
  },
  {
   "cell_type": "markdown",
   "id": "67576e28",
   "metadata": {},
   "source": [
    "# **Clases**\n",
    "\n",
    "# **¿Qué es una clase?**\n",
    "\n",
    "Las clases son elementos que se implementan como plantillas para diseñar y modelar abstracciones del entorno de todo tipo, por ejemplo:\n",
    "\n",
    "- Lapicero\n",
    "- Auto\n",
    "- Casa\n",
    "- Camisa\n",
    "\n",
    "etc..."
   ]
  },
  {
   "cell_type": "code",
   "execution_count": null,
   "id": "3acf9331",
   "metadata": {},
   "outputs": [],
   "source": [
    "class ejemplo:\n",
    "    #atributos\n",
    "\n",
    "    asignatura = \"Programación\"\n",
    "    num_horas = 4\n",
    "\n",
    "    def conteo_horas(self):\n",
    "        pass\n",
    "    def cantidad_horas(self):\n",
    "        pass"
   ]
  },
  {
   "cell_type": "markdown",
   "id": "c27b27ef",
   "metadata": {},
   "source": [
    "# **Objetos**\n",
    "## **¿Qué es un objeto?**\n",
    "\n",
    "Es una entidad con características abstraídas del entorno que para el caso de POO los llamaremos atributos y las acciones que puede realizar dicha entidad las llamaremos métodos.\n",
    "\n",
    "El objeto al final será una instancia de una clase cualquiera que nos va a servir para acceder y manipular atributos o hacer llamados a métodos"
   ]
  }
 ],
 "metadata": {
  "language_info": {
   "name": "python"
  }
 },
 "nbformat": 4,
 "nbformat_minor": 5
}
