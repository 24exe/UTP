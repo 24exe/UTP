{
 "cells": [
  {
   "cell_type": "markdown",
   "id": "79cb045a",
   "metadata": {},
   "source": [
    "# **Programación IV**\n",
    "## *Archivo 1, Clase 2*\n",
    "\n",
    "Grupo: 1\n",
    "\n",
    "Profesor: Andrés Felipe Ramírez Correa\n",
    "\n",
    "Nombre: Carlos Eduardo Grisales Restrepo\n",
    "\n",
    "Codigo: 1055750849\n",
    "\n",
    "**Tema: Archivos**"
   ]
  },
  {
   "cell_type": "markdown",
   "id": "9a34bfca",
   "metadata": {},
   "source": [
    "# **Archivos**\n",
    "## **¿Qué son los archivos?**\n",
    "\n",
    "- Los archivos se caracterizan por ser documentos externos al condigo que estamos  diseñando.\n",
    "- Se implementan para lograr la persistencia de los datos que estemos procesando en el programa.\n",
    "- Podemos procesar archivos con diferentes extensiones, para esta primera parte vamosa a tratar archivos de texto plano \"txt\". (existen tipo JSON tambien o binario).\n"
   ]
  },
  {
   "cell_type": "markdown",
   "id": "64030c22",
   "metadata": {},
   "source": [
    "## **Antes de iniciar**\n",
    "\n",
    "Para implementar archivos vamosa a importar la siguiente libreria:"
   ]
  },
  {
   "cell_type": "code",
   "execution_count": 1,
   "id": "57ab7cf7",
   "metadata": {},
   "outputs": [],
   "source": [
    "from io import *"
   ]
  },
  {
   "cell_type": "markdown",
   "id": "4ba1e27b",
   "metadata": {},
   "source": [
    "## **Creación de archivo**\n",
    "\n",
    "Este método recibe dos parámetros: la ruta del archivo y la letra de la acción.\n",
    "\n",
    "*Letras*\n",
    "- 'w' write, escritura\n",
    "- 'r' read, lectura de datos\n",
    "- 'a' append, para añadir datos."
   ]
  },
  {
   "cell_type": "code",
   "execution_count": 5,
   "id": "c4605643",
   "metadata": {},
   "outputs": [],
   "source": [
    "archivo = open(r\"C:\\Users\\Eduardo Grisales\\Desktop\\ejemplo.txt\", \"w\")"
   ]
  },
  {
   "cell_type": "markdown",
   "id": "484d6dae",
   "metadata": {},
   "source": [
    "## **Escritura del archivo**\n",
    "\n",
    "El método write nos sirve para ingresar de cierta manera los datos, este método nos recibe un solo parámetro."
   ]
  },
  {
   "cell_type": "code",
   "execution_count": 2,
   "id": "242bf9cf",
   "metadata": {},
   "outputs": [
    {
     "data": {
      "text/plain": [
       "23"
      ]
     },
     "execution_count": 2,
     "metadata": {},
     "output_type": "execute_result"
    }
   ],
   "source": [
    "nombre = \"edu\"\n",
    "edad = 21\n",
    "archivo.write(f\"\\n nombre: {nombre} edad: {edad} \")"
   ]
  },
  {
   "cell_type": "markdown",
   "id": "8d50663d",
   "metadata": {},
   "source": [
    "## **Lectura del archivo**\n",
    "Este método nos permite leer todo el archivo en cuestión."
   ]
  },
  {
   "cell_type": "code",
   "execution_count": null,
   "id": "e732316f",
   "metadata": {},
   "outputs": [],
   "source": [
    "lectura = archivo.read()"
   ]
  },
  {
   "cell_type": "markdown",
   "id": "e6d3f18a",
   "metadata": {},
   "source": [
    "## **Ultima recomendación**\n",
    "\n",
    "Siempre que realicemos algún cambio en el archivo tenemos que\n",
    "cerrar dicho proceso con esta sentencia."
   ]
  },
  {
   "cell_type": "code",
   "execution_count": null,
   "id": "3b2dc924",
   "metadata": {},
   "outputs": [],
   "source": [
    "archivo.close()"
   ]
  }
 ],
 "metadata": {
  "kernelspec": {
   "display_name": "Python 3",
   "language": "python",
   "name": "python3"
  },
  "language_info": {
   "codemirror_mode": {
    "name": "ipython",
    "version": 3
   },
   "file_extension": ".py",
   "mimetype": "text/x-python",
   "name": "python",
   "nbconvert_exporter": "python",
   "pygments_lexer": "ipython3",
   "version": "3.13.5"
  }
 },
 "nbformat": 4,
 "nbformat_minor": 5
}
