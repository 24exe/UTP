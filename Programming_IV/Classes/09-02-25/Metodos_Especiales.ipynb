{
 "cells": [
  {
   "cell_type": "markdown",
   "id": "173eacc1",
   "metadata": {},
   "source": [
    "# **Programación IV**\n",
    "## *Archivo 1, Clase 4*\n",
    "\n",
    "Grupo: 1\n",
    "\n",
    "Profesor: Andrés Felipe Ramírez Correa\n",
    "\n",
    "Nombre: Carlos Eduardo Grisales Restrepo\n",
    "\n",
    "Codigo: 1055750849\n",
    "\n",
    "**Tema: Metodos Especiales**"
   ]
  },
  {
   "cell_type": "markdown",
   "id": "3514ac33",
   "metadata": {},
   "source": [
    "# **Métodos Especiales (Mágicos)**\n",
    "\n",
    "## **Definición**\n",
    "\n",
    "- Los métodos especiales permiten que las clases se integren con el\n",
    "modelo de clases de Python (operadores, conversiones, iteraciones,\n",
    "etc).\n",
    "\n",
    "- Estos métodos no se llaman directamente después de creado el\n",
    "objeto, Python los invoca según el contexto\n"
   ]
  },
  {
   "cell_type": "markdown",
   "id": "6911597e",
   "metadata": {},
   "source": [
    "## **Lista de métodos básicos**\n",
    "*Recordar que tienen __ antes y despues.*\n",
    "\n",
    "- __init__\n",
    "\n",
    "- __str__\n",
    "\n",
    "- __len__\n",
    "\n",
    "- __add__\n",
    "\n",
    "- __eq__"
   ]
  },
  {
   "cell_type": "markdown",
   "id": "da88eeec",
   "metadata": {},
   "source": [
    "## **Método __str__**\n",
    "Este método devuelve una cadena legible con la información del\n",
    "objeto.\n"
   ]
  },
  {
   "cell_type": "code",
   "execution_count": 1,
   "id": "1f132274",
   "metadata": {},
   "outputs": [
    {
     "name": "stdout",
     "output_type": "stream",
     "text": [
      "Ana, 22 años\n"
     ]
    }
   ],
   "source": [
    "class Persona:\n",
    "    def __init__(self, nombre, edad):\n",
    "        self.nombre = nombre\n",
    "        self.edad = edad\n",
    "    \n",
    "    def __str__(self):\n",
    "        return f\"{self.nombre}, {self.edad} años\"\n",
    "\n",
    "persona = Persona(\"Ana\", 22)\n",
    "print(persona)"
   ]
  },
  {
   "cell_type": "markdown",
   "id": "810914a6",
   "metadata": {},
   "source": [
    "## **Método __len__**\n",
    "Permite medir la longitud de un objeto para que responda a la\n",
    "función len(), es muy útil en clases que manejan colecciones de\n",
    "elementos."
   ]
  },
  {
   "cell_type": "code",
   "execution_count": null,
   "id": "b7f18704",
   "metadata": {},
   "outputs": [
    {
     "name": "stdout",
     "output_type": "stream",
     "text": [
      "3\n"
     ]
    }
   ],
   "source": [
    "class Caja:\n",
    "    def __init__(self, cosas):\n",
    "        self.cosas = cosas\n",
    "    \n",
    "    def __len__(self):\n",
    "        return len(self.cosas)\n",
    "\n",
    "caja = Caja([\"lapiz\", \"cuaderno\", \"borrador\"])\n",
    "print(len(caja))"
   ]
  },
  {
   "cell_type": "markdown",
   "id": "844476cb",
   "metadata": {},
   "source": [
    "## **Método __add__**\n",
    "Este método nos define el comportamiento del operador “+” entre\n",
    "dos objetos."
   ]
  },
  {
   "cell_type": "code",
   "execution_count": 3,
   "id": "23cb7e3c",
   "metadata": {},
   "outputs": [
    {
     "name": "stdout",
     "output_type": "stream",
     "text": [
      "(6, 2)\n"
     ]
    }
   ],
   "source": [
    "class Punto:\n",
    "    def __init__(self, x, y):\n",
    "        self.x = x\n",
    "        self.y = y\n",
    "    \n",
    "    def __add__(self, otro):\n",
    "        return Punto(self.x + otro.x, self.y + otro.y)\n",
    "    \n",
    "    def __str__(self):\n",
    "        return f\"({self.x}, {self.y})\"\n",
    "\n",
    "p1 = Punto(2, 3)\n",
    "p2 = Punto(4, -1)\n",
    "print(p1 + p2)"
   ]
  },
  {
   "cell_type": "markdown",
   "id": "a06ac9e5",
   "metadata": {},
   "source": [
    "## **Método __eq__**\n",
    "Define el comportamiento del objeto al implementar el operador\n",
    "“==“, me permite saber cuando dos instancias son iguales."
   ]
  },
  {
   "cell_type": "code",
   "execution_count": null,
   "id": "12483f5e",
   "metadata": {},
   "outputs": [
    {
     "name": "stdout",
     "output_type": "stream",
     "text": [
      "True\n"
     ]
    }
   ],
   "source": [
    "class Persona:\n",
    "    def __init__(self, doc, nombre):\n",
    "        self.doc = doc\n",
    "        self.nombre = nombre\n",
    "    \n",
    "    def __eq__(self, otra):\n",
    "        return self.doc == otra.doc\n",
    "    \n",
    "p1 = Persona(\"123\", \"Ana\")\n",
    "p2 = Persona(\"123\", \"Carlos\")\n",
    "\n",
    "print(p1 == p2)         # Retorna True or False\n",
    "        "
   ]
  },
  {
   "cell_type": "markdown",
   "id": "07d133e9",
   "metadata": {},
   "source": [
    "## **Ventajas de la implementación**\n",
    "\n",
    "- Ventajas de la implementación\n",
    "-La mayoría de los métodos especiales no son de implementación\n",
    "obligatoria, incluso en otros lenguajes de programación podrían\n",
    "variar.\n",
    "- Su implementación hace ver el código mas elegante.\n",
    "- Las clases se van a integrar mejor con Python.\n"
   ]
  }
 ],
 "metadata": {
  "kernelspec": {
   "display_name": "Python 3",
   "language": "python",
   "name": "python3"
  },
  "language_info": {
   "codemirror_mode": {
    "name": "ipython",
    "version": 3
   },
   "file_extension": ".py",
   "mimetype": "text/x-python",
   "name": "python",
   "nbconvert_exporter": "python",
   "pygments_lexer": "ipython3",
   "version": "3.13.5"
  }
 },
 "nbformat": 4,
 "nbformat_minor": 5
}
