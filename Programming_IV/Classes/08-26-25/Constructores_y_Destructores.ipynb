{
 "cells": [
  {
   "cell_type": "markdown",
   "id": "5022fa7e",
   "metadata": {},
   "source": [
    "# **Programación IV**\n",
    "## *Archivo 1, Clase 3*\n",
    "\n",
    "Grupo: 1\n",
    "\n",
    "Profesor: Andrés Felipe Ramírez Correa\n",
    "\n",
    "Nombre: Carlos Eduardo Grisales Restrepo\n",
    "\n",
    "Codigo: 1055750849\n",
    "\n",
    "**Tema: Constructores y Destructores**"
   ]
  },
  {
   "cell_type": "markdown",
   "id": "6a2b4389",
   "metadata": {},
   "source": [
    "# **¿Qué es un constructor?**\n",
    "## **Definición**\n",
    "\n",
    "- Los constructores son métodos especiales de Python y se\n",
    "implementan para inicializar todos los atributos de una clase, el\n",
    "nombre de la función constructora es _ _ init_ _() para todas las\n",
    "clases, el constructor en Python siempre toma un parámetro, es decir\n",
    "un puntero al objeto que llama\n",
    "- En otros lenguajes de programación podemos definir constructores\n",
    "múltiples, en Python no podemos implementarlos. Para intentar\n",
    "implementar algo similar podemos escribir un parámetro\n",
    "predeterminado, este es aquel que asigna automáticamente un valor\n",
    "a sus atributos de clase si no se pasa ningún parámetro al crear el\n",
    "objeto clase.\n",
    "\n",
    "### *Apuntes de Copilot*\n",
    "En Python, no se pueden tener varios constructores como en otros lenguajes (por ejemplo, Java o C++). Solo existe un método especial llamado _ _ init _ _ (), que actúa como el constructor de la clase.\n",
    "\n",
    "Sin embargo, puedes simular múltiples constructores usando argumentos opcionales, valores por defecto, o métodos de clase como @classmethod para crear instancias de diferentes maneras. Por ejemplo:"
   ]
  },
  {
   "cell_type": "code",
   "execution_count": null,
   "id": "80f6f483",
   "metadata": {},
   "outputs": [],
   "source": [
    "class Persona:\n",
    "    def __init__(self, nombre, edad=None):\n",
    "        self.nombre = nombre\n",
    "        self.edad = edad\n",
    "\n",
    "    @classmethod\n",
    "    def desde_cadena(cls, cadena):\n",
    "        nombre, edad = cadena.split(',')\n",
    "        return cls(nombre, int(edad)) # cls = clase actual\n",
    "    \n",
    "p1 = Persona(\"Ana\", 30)\n",
    "p2 = Persona.desde_cadena(\"Luis,25\")    "
   ]
  },
  {
   "cell_type": "markdown",
   "id": "eb860434",
   "metadata": {},
   "source": [
    "## **Argumentos Opcionales**\n",
    "\n",
    "Un argumento opcional es un argumento para el que no es\n",
    "obligatorio pasar por un valor. Para tal argumento, se evalúa un valor\n",
    "predeterminado. Si se pasa algún valor para dicho argumento, el\n",
    "nuevo valor sobrescribe el valor predeterminado."
   ]
  },
  {
   "cell_type": "code",
   "execution_count": null,
   "id": "4cd4029f",
   "metadata": {},
   "outputs": [],
   "source": [
    "class Calculo:\n",
    "    acumulador=0\n",
    "    '''\n",
    "    *args permite pasar un número variable de argumentos posicionales que se reciben como una tupla (secuencia ordenada e inmutable de datos)\n",
    "    '''\n",
    "    def __init__(self,*args):\n",
    "        for i in args:\n",
    "            self.acumulador=self.acumulador+i\n",
    "        \n",
    "    def resultado(self):\n",
    "        return f\"La sumatoria es: {self.acumulador}\"\n",
    "\n",
    "\n",
    "sumatoria=Calculo(2,3,6,8,4,5,2,7,8,20)\n",
    "print(sumatoria.resultado())"
   ]
  },
  {
   "cell_type": "markdown",
   "id": "ac1c9f22",
   "metadata": {},
   "source": [
    "# **Destructor**\n",
    "\n",
    "- Los destructores se implementan cuando es necesario limpiar un\n",
    "objeto en Python. Básicamente, tiene el papel completamente\n",
    "opuesto al de un constructor y se usa para revertir las operaciones\n",
    "que realiza el constructor.\n",
    "\n",
    "- En Python no es muy necesario la implementación como en otros\n",
    "lenguajes fuertemente tipados ya que el recolector de basura de\n",
    "Python maneja automáticamente la administración de memoria."
   ]
  },
  {
   "cell_type": "code",
   "execution_count": null,
   "id": "6544e24e",
   "metadata": {},
   "outputs": [],
   "source": [
    "class Persona:\n",
    "    def __del__(self):\n",
    "        print(\"Objeto destruido\")\n",
    "\n",
    "p = Persona()\n",
    "del p  # Fuerza la destrucción del \n",
    "\n",
    "# Recirdar que en Python casi nunca se usa directamente, porque el recolector de basura lo maneja solo.\n"
   ]
  },
  {
   "cell_type": "markdown",
   "id": "2468d279",
   "metadata": {},
   "source": [
    "# **Métodos para Archivos (ACTIVIDAD)**\n",
    "\n",
    "## **Sentencia With**\n",
    "\n",
    "La sentencia with en Python se usa para manejar recursos como archivos de forma segura y automática. Cuando abres un archivo con with, Python se encarga de cerrarlo automáticamente al terminar el bloque, incluso si ocurre un error.\n",
    "\n",
    "(no sabía que los cerraba automaticamente, pero ya lo he usado.)"
   ]
  },
  {
   "cell_type": "code",
   "execution_count": null,
   "id": "db137842",
   "metadata": {},
   "outputs": [],
   "source": [
    "with open(\"archivo.txt\", \"r\") as f:\n",
    "    contenido = f.read()\n",
    "# Aquí el archivo ya está cerrado automáticamente"
   ]
  },
  {
   "cell_type": "markdown",
   "id": "064ab5b0",
   "metadata": {},
   "source": [
    "## **Método Seek**\n",
    "\n",
    "El método seek() en archivos permite mover el cursor de lectura/escritura a una posición específica dentro del archivo.\n",
    "Sirve para cuando ya hemos leído el archivo y queremos volver a leerlo por ejemplo, ya que ala hacer seek(0) volvemos al principio de este."
   ]
  },
  {
   "cell_type": "code",
   "execution_count": null,
   "id": "759e26bb",
   "metadata": {},
   "outputs": [],
   "source": [
    "with open(\"archivo.txt\", \"r\") as f:\n",
    "    f.seek(5)           # Mueve el cursor al byte 5 y empieza a leer desde esa posición.\n",
    "    texto = f.read()    # Lee desde esa posición"
   ]
  },
  {
   "cell_type": "markdown",
   "id": "2f952202",
   "metadata": {},
   "source": [
    "## **Metodo tell**\n",
    "\n",
    "El método tell() en archivos devuelve la posición actual del cursor (en bytes) dentro del archivo.\n",
    "Recordar que si el encoding es UTF-8 en vez de ASCII, habran caracteres que valen 2 bytes como la 'ñ'\n"
   ]
  },
  {
   "cell_type": "code",
   "execution_count": null,
   "id": "50afdfff",
   "metadata": {},
   "outputs": [],
   "source": [
    "with open(\"archivo.txt\", \"r\") as f:\n",
    "    f.read(10)\n",
    "    posicion = f.tell()  # Devuelve 10, porque se han leído 10 bytes\n",
    "    print(posicion)"
   ]
  },
  {
   "cell_type": "markdown",
   "id": "c6d7f6e6",
   "metadata": {},
   "source": [
    "## **Método readline**\n",
    "\n",
    "*Acorde a Copilot:*\n",
    "El método readline() lee una sola línea del archivo cada vez que se llama.\n",
    "\n",
    "*Acorde al Profe:*\n",
    "El método readline() lee una cantidad de caracteres dada."
   ]
  },
  {
   "cell_type": "code",
   "execution_count": null,
   "id": "b6b27a95",
   "metadata": {},
   "outputs": [],
   "source": [
    "#-----------EJ COPILOT------------------\n",
    "with open(\"archivo.txt\", \"r\") as f:\n",
    "    linea1 = f.readline()  # Lee la primera línea\n",
    "    linea2 = f.readline()  # Lee la segunda línea\n",
    "\n",
    "#-----------EJ PROFE--------------------\n",
    "with open(\"archivo.txt\", \"r\") as f:\n",
    "    linea1 = f.readline(6) "
   ]
  },
  {
   "cell_type": "markdown",
   "id": "a8b3e692",
   "metadata": {},
   "source": [
    "## **Método readlines**\n",
    "\n",
    "El método readlines() lee todas las líneas de un archivo y las devuelve como una lista de cadenas, donde cada elemento corresponde a una línea del archivo.\n",
    "\n",
    "El método readlines() de los archivos en Python sirve para leer todas las líneas del archivo y devolverlas como una lista. Cada elemento de la lista es una cadena que representa una línea, incluyendo el salto de línea (\\n) al final de cada una (si existe).\n",
    "\n",
    "**Características principales:**\n",
    "\n",
    "- Lee desde la posición actual del cursor hasta el final del archivo.\n",
    "- Si el archivo es muy grande, puede consumir mucha memoria porque carga todas las líneas en una lista.\n",
    "- Puedes recorrer la lista para procesar cada línea por separado.\n"
   ]
  },
  {
   "cell_type": "code",
   "execution_count": null,
   "id": "5d46aef6",
   "metadata": {},
   "outputs": [],
   "source": [
    "#----------EJ 1--------------\n",
    "with open(\"archivo.txt\", \"r\") as f:\n",
    "    lineas = f.readlines()\n",
    "    print(lineas)  # ['Primera línea\\n', 'Segunda línea\\n', ...]\n",
    "\n",
    "#----------EJ 2-------------\n",
    "with open(\"archivo.txt\", \"r\") as f:\n",
    "    lineas = f.readlines()\n",
    "    for linea in lineas:\n",
    "        print(linea.strip())  # .strip() elimina el salto de línea\n",
    "#----------EJ 3 (Con archivos grandes es mejor no usar readlines)-------------\n",
    "with open(\"archivo.txt\", \"r\") as f:\n",
    "    for linea in f:\n",
    "        print(linea.strip())"
   ]
  },
  {
   "cell_type": "markdown",
   "id": "e1b6960b",
   "metadata": {},
   "source": [
    "## **Método writelines**\n",
    "\n",
    "El método writelines() escribe una lista de cadenas en un archivo, una tras otra, tal como están en la lista. No agrega saltos de línea automáticamente, así que debes incluir \\n al final de cada cadena si quieres que cada elemento quede en una línea diferente."
   ]
  },
  {
   "cell_type": "code",
   "execution_count": null,
   "id": "b6c8d665",
   "metadata": {},
   "outputs": [],
   "source": [
    "#----------EJ 1--------------\n",
    "lineas = [\"Perro, Max, 5\\n\", \"Gato, Luna, 3\\n\"]\n",
    "with open(\"animales.txt\", \"w\") as f:\n",
    "    f.writelines(lineas)\n",
    "\n",
    "#----------EJ 2--------------\n",
    "animales = [\"Perro, Max, 5\", \"Gato, Luna, 3\", \"Ave, Paco, 2\"]\n",
    "\n",
    "# Agregando saltos de línea manualmente\n",
    "lineas = [animal + \"\\n\" for animal in animales] # Recordar sintaxis correcta de listas por comprensión: [expresión for elemento in colección]\n",
    "\n",
    "with open(\"animales.txt\", \"w\") as f:\n",
    "    f.writelines(lineas)"
   ]
  }
 ],
 "metadata": {
  "kernelspec": {
   "display_name": "Python 3",
   "language": "python",
   "name": "python3"
  },
  "language_info": {
   "codemirror_mode": {
    "name": "ipython",
    "version": 3
   },
   "file_extension": ".py",
   "mimetype": "text/x-python",
   "name": "python",
   "nbconvert_exporter": "python",
   "pygments_lexer": "ipython3",
   "version": "3.13.5"
  }
 },
 "nbformat": 4,
 "nbformat_minor": 5
}
